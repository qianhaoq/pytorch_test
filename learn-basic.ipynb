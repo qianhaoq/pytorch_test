{
 "cells": [
  {
   "cell_type": "code",
   "execution_count": 2,
   "metadata": {},
   "outputs": [
    {
     "name": "stdout",
     "output_type": "stream",
     "text": [
      "a is: \n",
      " 2  3\n",
      " 4  8\n",
      " 7  9\n",
      "[torch.FloatTensor of size 3x2]\n",
      "\n"
     ]
    }
   ],
   "source": [
    "import torch\n",
    "\n",
    "\n",
    "a = torch.Tensor([[2, 3], [4, 8], [7, 9]])\n",
    "print('a is: {}'.format(a))"
   ]
  },
  {
   "cell_type": "code",
   "execution_count": 3,
   "metadata": {},
   "outputs": [
    {
     "name": "stdout",
     "output_type": "stream",
     "text": [
      "a size is torch.Size([3, 2])\n"
     ]
    }
   ],
   "source": [
    "print('a size is {}'.format(a.size()))"
   ]
  },
  {
   "cell_type": "code",
   "execution_count": 4,
   "metadata": {},
   "outputs": [
    {
     "name": "stdout",
     "output_type": "stream",
     "text": [
      "c is: \n",
      " 0  0\n",
      " 0  0\n",
      " 0  0\n",
      "[torch.FloatTensor of size 3x2]\n",
      "\n"
     ]
    }
   ],
   "source": [
    "c = torch.zeros((3, 2))\n",
    "print('c is: {}'.format(c))"
   ]
  },
  {
   "cell_type": "code",
   "execution_count": 5,
   "metadata": {},
   "outputs": [
    {
     "name": "stdout",
     "output_type": "stream",
     "text": [
      "changed a is:\n",
      "   2  100\n",
      "   4    8\n",
      "   7    9\n",
      "[torch.FloatTensor of size 3x2]\n",
      "\n"
     ]
    }
   ],
   "source": [
    "a[0, 1] = 100\n",
    "print('changed a is:{}'.format(a))"
   ]
  },
  {
   "cell_type": "code",
   "execution_count": 17,
   "metadata": {},
   "outputs": [
    {
     "name": "stdout",
     "output_type": "stream",
     "text": [
      "b is: \n",
      " 2  3\n",
      " 4  8\n",
      " 5  6\n",
      "[torch.FloatTensor of size 3x2]\n",
      "\n",
      "numpy_b is:[[ 2.  3.]\n",
      " [ 4.  8.]\n",
      " [ 5.  6.]]\n"
     ]
    }
   ],
   "source": [
    "import numpy\n",
    "b = torch.Tensor([[2, 3], [4, 8], [5, 6]])\n",
    "numpy_b = b.numpy()\n",
    "print('b is: {}'.format(b))\n",
    "print('numpy_b is:{}'.format(numpy_b))"
   ]
  },
  {
   "cell_type": "code",
   "execution_count": 20,
   "metadata": {},
   "outputs": [
    {
     "name": "stdout",
     "output_type": "stream",
     "text": [
      "3\n",
      "3\n"
     ]
    }
   ],
   "source": [
    "import numpy as np\n",
    "e = np.array([[2, 3], [4 ,5]])\n",
    "print(e[0, 1])\n",
    "torch_e = torch.from_numpy(e)\n",
    "print(torch_e[0, 1])"
   ]
  },
  {
   "cell_type": "code",
   "execution_count": 21,
   "metadata": {},
   "outputs": [
    {
     "name": "stdout",
     "output_type": "stream",
     "text": [
      "\n",
      "   2  100\n",
      "   4    8\n",
      "   7    9\n",
      "[torch.cuda.FloatTensor of size 3x2 (GPU 0)]\n",
      "\n"
     ]
    }
   ],
   "source": [
    "if torch.cuda.is_available():\n",
    "    a_cuda = a.cuda()\n",
    "    print(a_cuda)"
   ]
  },
  {
   "cell_type": "code",
   "execution_count": 24,
   "metadata": {},
   "outputs": [
    {
     "name": "stdout",
     "output_type": "stream",
     "text": [
      "Variable containing:\n",
      "   2  100\n",
      "   4    8\n",
      "   7    9\n",
      "[torch.FloatTensor of size 3x2]\n",
      "\n"
     ]
    }
   ],
   "source": [
    "from torch.autograd import Variable\n",
    "v_a = Variable(a)\n",
    "print(v_a)"
   ]
  },
  {
   "cell_type": "code",
   "execution_count": 27,
   "metadata": {},
   "outputs": [
    {
     "name": "stdout",
     "output_type": "stream",
     "text": [
      "\n",
      "   2  100\n",
      "   4    8\n",
      "   7    9\n",
      "[torch.FloatTensor of size 3x2]\n",
      "\n",
      "None\n"
     ]
    }
   ],
   "source": [
    "print(v_a.data)"
   ]
  },
  {
   "cell_type": "code",
   "execution_count": 32,
   "metadata": {},
   "outputs": [
    {
     "name": "stdout",
     "output_type": "stream",
     "text": [
      "Variable containing:\n",
      " 2\n",
      "[torch.FloatTensor of size 1]\n",
      "\n",
      "Variable containing:\n",
      " 2\n",
      "[torch.FloatTensor of size 1]\n",
      "\n",
      "Variable containing:\n",
      " 6\n",
      "[torch.FloatTensor of size 1]\n",
      "\n"
     ]
    }
   ],
   "source": [
    "# 标量求导\n",
    "X = Variable(torch.Tensor([2]), requires_grad=True)\n",
    "Y = Variable(torch.Tensor([2]), requires_grad=True)\n",
    "Z = Variable(torch.Tensor([3]), requires_grad=True)\n",
    "\n",
    "w = X * Y + Z * Z\n",
    "\n",
    "w.backward()\n",
    "print(X.grad)\n",
    "print(Y.grad)\n",
    "print(Z.grad)"
   ]
  },
  {
   "cell_type": "code",
   "execution_count": 34,
   "metadata": {},
   "outputs": [
    {
     "name": "stdout",
     "output_type": "stream",
     "text": [
      "\n",
      " 0.6027\n",
      "-1.0418\n",
      "-0.5649\n",
      "[torch.FloatTensor of size 3]\n",
      "\n",
      "Variable containing:\n",
      " 0.6027\n",
      "-1.0418\n",
      "-0.5649\n",
      "[torch.FloatTensor of size 3]\n",
      "\n",
      "Variable containing:\n",
      " 1.2054\n",
      "-2.0836\n",
      "-1.1297\n",
      "[torch.FloatTensor of size 3]\n",
      "\n",
      "Variable containing:\n",
      " 2.0000\n",
      " 0.2000\n",
      " 0.0200\n",
      "[torch.FloatTensor of size 3]\n",
      "\n"
     ]
    }
   ],
   "source": [
    "#矩阵求导\n",
    "x = torch.randn(3)\n",
    "print(x)\n",
    "x = Variable(x, requires_grad=True)\n",
    "print(x)\n",
    "y = x * 2\n",
    "print(y)\n",
    "\n",
    "y.backward(torch.FloatTensor([1, 0.1, 0.01]))\n",
    "print(x.grad)"
   ]
  },
  {
   "cell_type": "code",
   "execution_count": null,
   "metadata": {
    "collapsed": true
   },
   "outputs": [],
   "source": []
  }
 ],
 "metadata": {
  "kernelspec": {
   "display_name": "Python 3",
   "language": "python",
   "name": "python3"
  },
  "language_info": {
   "codemirror_mode": {
    "name": "ipython",
    "version": 3
   },
   "file_extension": ".py",
   "mimetype": "text/x-python",
   "name": "python",
   "nbconvert_exporter": "python",
   "pygments_lexer": "ipython3",
   "version": "3.6.2"
  }
 },
 "nbformat": 4,
 "nbformat_minor": 2
}
